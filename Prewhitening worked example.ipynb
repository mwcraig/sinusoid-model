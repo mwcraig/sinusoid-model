{
 "metadata": {
  "name": "Prewhitening worked example"
 },
 "nbformat": 3,
 "nbformat_minor": 0,
 "worksheets": [
  {
   "cells": [
    {
     "cell_type": "code",
     "collapsed": false,
     "input": [
      "%pylab inline\n",
      "figsize(20, 10)\n",
      "from scipy import signal\n",
      "import atpy"
     ],
     "language": "python",
     "metadata": {},
     "outputs": []
    },
    {
     "cell_type": "markdown",
     "metadata": {},
     "source": [
      "# SIGNAL ANALYSIS FOR VARIABLE STARS"
     ]
    },
    {
     "cell_type": "markdown",
     "metadata": {},
     "source": [
      "## Introduction\n",
      "\n",
      "### Get some data\n",
      "\n",
      "In this worksheet we'll use the data from [Sodor et al](http://adsabs.harvard.edu/abs/2012MNRAS.427.1517S) on XY And. The data is available directly from [the MNRAS page for the article](http://onlinelibrary.wiley.com/doi/10.1111/j.1365-2966.2012.21837.x/suppinfo). You want the zip file `mnr_21837_sm_Tables56A1-A5.zip` and from that Table A1, which is in the file `mnr_21837_sm_TableA1.dat`. \n",
      "\n",
      "We'll start by reading that file in. If you don't have [atpy](http://atpy.github.com/), install it using `pip`."
     ]
    },
    {
     "cell_type": "code",
     "collapsed": false,
     "input": [
      "xy_and_v = atpy.Table('xy_and/mnr_21837_sm_TableA1.dat', type='ascii')\n",
      "xy_and_date = xy_and_v['HJD-2400000']\n",
      "xy_and_mag = xy_and_v['DeltaV']"
     ],
     "language": "python",
     "metadata": {},
     "outputs": []
    },
    {
     "cell_type": "markdown",
     "metadata": {},
     "source": [
      "### Overview\n",
      "\n",
      "Our goal here is to figure out what signal (i.e. meaningful frequencies) are present in the data from a variable star. The approach will be:\n",
      "\n",
      "1. Plot a Fourier spectrum (actually, a periodogram, which is a power spectrum).\n",
      "2. Identify the significant peak(s) in it.\n",
      "3. Model that frequency\n",
      "4. Remove it from the data\n",
      "5. Repeat until no more peaks remain."
     ]
    },
    {
     "cell_type": "markdown",
     "metadata": {},
     "source": [
      "# I. Plot a Fourier spectrum"
     ]
    },
    {
     "cell_type": "markdown",
     "metadata": {},
     "source": [
      "We'll calculate the periodogram using a method called the Lomb-Scargle algorithm. That isn't going to be explained here beyond the bare minimum needed to understand how to use it."
     ]
    },
    {
     "cell_type": "markdown",
     "metadata": {},
     "source": [
      "### 1. Pick a frequency range\n",
      "\n",
      "One of the inputs to Lomb-Scargle is the frequencies at which you want to calculate the power. The amount of power (i.e. height of the curve) indicates how \"significant\" that frequency is.\n",
      "\n",
      "For RR Lyrae stars periods typically range from a few hours to a day, so we'll start with a fairly narrow range of frequencies.\n",
      "\n",
      "**NOTE:** ALL FREQUENCIES ARE IN CYCLES PER DAY UNLESS OTHERWISE NOTED.\n",
      "\n",
      "That causes one little wrinkle, because Lomb-Scargle wants *angular* frequency, not plain frequency. Turns out not to be hard to deal with, though."
     ]
    },
    {
     "cell_type": "code",
     "collapsed": false,
     "input": [
      "f_max=1/0.1 # cycles/day, corresponding to a period of 0.1 days\n",
      "f_min = 1./3  #cycles per day, corresponding a to a period of 3 days.\n",
      "\n",
      "frequency = linspace(f_min, f_max, num=1000) # For now, pretend more points is better. "
     ],
     "language": "python",
     "metadata": {},
     "outputs": []
    },
    {
     "cell_type": "markdown",
     "metadata": {},
     "source": [
      "### 2. Calculate the periodogram\n",
      "\n",
      "This step is pretty easy *if you remember to convert the frequencies to angular frequencies.*"
     ]
    },
    {
     "cell_type": "code",
     "collapsed": false,
     "input": [
      "periodgram = signal.lombscargle(xy_and_date, xy_and_mag, 2*pi*frequency)"
     ],
     "language": "python",
     "metadata": {},
     "outputs": []
    },
    {
     "cell_type": "markdown",
     "metadata": {},
     "source": [
      "### 3. Plot the periodogram and look for peaks"
     ]
    },
    {
     "cell_type": "code",
     "collapsed": false,
     "input": [
      "plot(frequency, periodgram)\n",
      "xlabel('Frequency (cycle/day)')\n",
      "ylabel('Power')\n",
      "title('Initial periodogram of XY And')"
     ],
     "language": "python",
     "metadata": {},
     "outputs": []
    },
    {
     "cell_type": "markdown",
     "metadata": {},
     "source": [
      "# II. Identify Significant Peaks"
     ]
    },
    {
     "cell_type": "markdown",
     "metadata": {},
     "source": [
      "### 4. Look *carefully* for peaks\n",
      "\n",
      "In this periodogram it looks like most of the power is between 2 c/d and 4 c/d, so let's redo the periodogram focusing just on that range. Why? Because the height and location of the peaks depends on how you choose the frequencies at which to calculate the power. Don't trust that you have found the correct peak until you have made a fairly high resolution periodogram.\n",
      "\n",
      "In this case I know, from Sodor et al, that the primary frequency is about 2.5 c/d, so the highest peak above (at about 3.5 c/d) isn't actually the primary frequency."
     ]
    },
    {
     "cell_type": "code",
     "collapsed": false,
     "input": [
      "f_max=2 # cycles/day\n",
      "f_min = 4  #cycles per day\n",
      "frequency = linspace(f_min, f_max, num=1000) # For now, pretend more points is better. \n",
      "periodgram = signal.lombscargle(xy_and_date, xy_and_mag, 2*pi*frequency)"
     ],
     "language": "python",
     "metadata": {},
     "outputs": []
    },
    {
     "cell_type": "code",
     "collapsed": false,
     "input": [
      "plot(frequency, periodgram)\n",
      "xlabel('Frequency (cycle/day)')\n",
      "ylabel('Power')\n",
      "title('Initial periodogram of XY And')"
     ],
     "language": "python",
     "metadata": {},
     "outputs": []
    },
    {
     "cell_type": "markdown",
     "metadata": {},
     "source": [
      "#### See? I told you this was a little complicated...\n",
      "\n",
      "now the primary peak is clearly at just about 2.5c/d. There is a peak near 3.5 c/d--that peak is an *alias* of the true frequency caused by the fact that data is only taken at night, so there is an artificial (in the sense that it has nothing to do with the star XY And) frequency of 1c/d in the system.\n",
      "\n",
      "Let's home in on that peak near 2.5 c/d..."
     ]
    },
    {
     "cell_type": "code",
     "collapsed": false,
     "input": [
      "f_max=2.4 # cycles/day\n",
      "f_min =2.6  #cycles per day\n",
      "frequency = linspace(f_min, f_max, num=1000) # For now, pretend more points is better. \n",
      "periodgram = signal.lombscargle(xy_and_date, xy_and_mag, 2*pi*frequency)"
     ],
     "language": "python",
     "metadata": {},
     "outputs": []
    },
    {
     "cell_type": "code",
     "collapsed": false,
     "input": [
      "plot(frequency, periodgram)\n",
      "xlabel('Frequency (cycle/day)')\n",
      "ylabel('Power')\n",
      "title('Initial periodogram of XY And')\n",
      "xlim(2.5, 2.53)"
     ],
     "language": "python",
     "metadata": {},
     "outputs": []
    },
    {
     "cell_type": "markdown",
     "metadata": {},
     "source": [
      "The middle peak is the one we want. How do we know? First, it is the tallest one. Second, the peaks to either side are additional aliases corresponding to a frequency of roughly .0027 c/d, which corresponds to a period of 1 year. \n",
      "\n",
      "If I were ambitious today, I'd fit a polynomial to that central peak and take its derivative to find the maximum. Instead, I'll eyeball it: looks like about 2.507 c/d."
     ]
    },
    {
     "cell_type": "code",
     "collapsed": false,
     "input": [
      "f0 = 2.507  # c/d\n",
      "p0 = 1/f0"
     ],
     "language": "python",
     "metadata": {},
     "outputs": []
    },
    {
     "cell_type": "markdown",
     "metadata": {},
     "source": [
      "# III. Model That Frequency"
     ]
    },
    {
     "cell_type": "markdown",
     "metadata": {},
     "source": [
      "Time to look at the actual data we have, and at a couple ways of checking whether it really varies with a frequency of roughly 2.507 c/d."
     ]
    },
    {
     "cell_type": "markdown",
     "metadata": {},
     "source": [
      "### Plot the raw data\n",
      "\n",
      "That is, plot date vs magnitude."
     ]
    },
    {
     "cell_type": "code",
     "collapsed": false,
     "input": [
      "plot(xy_and_date, - xy_and_mag, '.')\n",
      "xlabel('Heliocentric Julian Date')\n",
      "ylabel('-$\\Delta V$ (magnitude)')"
     ],
     "language": "python",
     "metadata": {},
     "outputs": []
    },
    {
     "cell_type": "markdown",
     "metadata": {},
     "source": [
      "### Make a phased light curve\n",
      "\n",
      "A phased light curve is one where the horizontal axis is fraction of a period rather than date. You can't calculate the phase without two things:\n",
      "\n",
      "+ An estimate of the period\n",
      "+ A reference date, called the epoch\n",
      "\n",
      "The epoch can be any date you want--it acts as the zero point from which you measure times. Typically it is chosen to be a date at whicht star is at maximum brightness, but we won't worry about that for now."
     ]
    },
    {
     "cell_type": "code",
     "collapsed": false,
     "input": [
      "epoch = 2454381.5513 - 2400000\n",
      "\n",
      "phase = (xy_and_date-epoch)/p0 - int64((xy_and_date-epoch)/p0)\n",
      "plot(phase, -xy_and_mag, '.', color='b')\n",
      "plot(phase+1, -xy_and_mag, '.', color='b') # traditionally the phased light curve is repeated so you can see the full structure\n",
      "xlabel('phase')\n",
      "ylabel(u'-$\\Delta V$')"
     ],
     "language": "python",
     "metadata": {},
     "outputs": []
    },
    {
     "cell_type": "markdown",
     "metadata": {},
     "source": [
      "### Oops, not quite right yet, so revise estimate of the period\n",
      "\n",
      "Ideally we'd go back and find that peak more exactly. Instead I'm going to cheat and use the value from Sodor et al, $f0=2.507996119$c/d"
     ]
    },
    {
     "cell_type": "code",
     "collapsed": false,
     "input": [
      "f0 = 2.507996119\n",
      "p0 = 1/f0\n",
      "\n",
      "phase = (xy_and_date-epoch)/p0 - int64((xy_and_date-epoch)/p0)\n",
      "plot(phase, -xy_and_mag, '.', color='b')\n",
      "plot(phase+1, -xy_and_mag, '.', color='b') # traditionally the phased light curve is repeated so you can see the full structure\n",
      "xlabel('phase')\n",
      "ylabel(u'-$\\Delta V$')"
     ],
     "language": "python",
     "metadata": {},
     "outputs": []
    },
    {
     "cell_type": "markdown",
     "metadata": {},
     "source": [
      "## Model the light curve\n",
      "\n",
      "We'll start with the simplest possible model, one with just one sine wave. The `SinusoidModel` class imported below provides an easy way to do two things:\n",
      "\n",
      "+ Specify what components (frequencies) you want in your model of the star\n",
      "+ Find the best fit to the data using those components.\n",
      "\n",
      "**NOTE:** The fit you get *will change* as you change the model. This isn't a once-and-you-are-done kind of thing."
     ]
    },
    {
     "cell_type": "code",
     "collapsed": false,
     "input": [
      "from sinusoid import SinusoidModel"
     ],
     "language": "python",
     "metadata": {},
     "outputs": []
    },
    {
     "cell_type": "markdown",
     "metadata": {},
     "source": [
      "First, specify the model. This will actually make more sense when the model gets more complicated. "
     ]
    },
    {
     "cell_type": "code",
     "collapsed": false,
     "input": [
      "xy_and_simple = SinusoidModel()\n",
      "xy_and_simple.frequencies = [f0]  # just one frequency in this first model\n",
      "xy_and_simple.modes = [[1]]  # and just one component at 1*f0"
     ],
     "language": "python",
     "metadata": {},
     "outputs": []
    },
    {
     "cell_type": "markdown",
     "metadata": {},
     "source": [
      "Now, fit the model to the data..."
     ]
    },
    {
     "cell_type": "code",
     "collapsed": false,
     "input": [
      "xy_and_simple.fit_to_data(xy_and_date, xy_and_mag)"
     ],
     "language": "python",
     "metadata": {},
     "outputs": []
    },
    {
     "cell_type": "markdown",
     "metadata": {},
     "source": [
      "Let's see if this is even remotely plausible by overplotting the data and our first fit. "
     ]
    },
    {
     "cell_type": "code",
     "collapsed": false,
     "input": [
      "fit_magnitudes = xy_and_simple(xy_and_date)\n",
      "plot(phase, -xy_and_mag, '.', label='Data')\n",
      "plot(phase, -fit_magnitudes, '.', label='Fit')\n",
      "xlabel('Phase')\n",
      "ylabel('-$\\Delta V$ (mag)')"
     ],
     "language": "python",
     "metadata": {},
     "outputs": []
    },
    {
     "cell_type": "markdown",
     "metadata": {},
     "source": [
      "You can even print out the model if you want to see the fit parameters:"
     ]
    },
    {
     "cell_type": "code",
     "collapsed": false,
     "input": [
      "print xy_and_simple"
     ],
     "language": "python",
     "metadata": {},
     "outputs": []
    },
    {
     "cell_type": "markdown",
     "metadata": {},
     "source": [
      "# IV. Remove the Model from the Data"
     ]
    },
    {
     "cell_type": "markdown",
     "metadata": {},
     "source": [
      "This goes by the name pre-whitening because you are making your data closer to white noise. Pre-whitening is actually pretty easy: subtract your model from the data and this difference is the pre-whitened data."
     ]
    },
    {
     "cell_type": "code",
     "collapsed": false,
     "input": [
      "residual = xy_and_mag - xy_and_simple(xy_and_date)"
     ],
     "language": "python",
     "metadata": {},
     "outputs": []
    },
    {
     "cell_type": "markdown",
     "metadata": {},
     "source": [
      "Next, make a periodogram of this residual...we'll start by focusing on the frequency range from 2 c/d to 4 c/d because the impact of pre-whitening is clearest there."
     ]
    },
    {
     "cell_type": "code",
     "collapsed": false,
     "input": [
      "f_max=2 # cycles/day\n",
      "f_min = 4  #cycles per day\n",
      "frequency = linspace(f_min, f_max, num=1000) # For now, pretend more points is better. \n",
      "periodgram = signal.lombscargle(xy_and_date, xy_and_mag, 2*pi*frequency)\n",
      "residual_periodogram = signal.lombscargle(xy_and_date, residual, 2*pi*frequency)"
     ],
     "language": "python",
     "metadata": {},
     "outputs": []
    },
    {
     "cell_type": "code",
     "collapsed": false,
     "input": [
      "plot(frequency, periodgram, label='Before pre-whitening')\n",
      "plot(frequency, residual_periodogram, label='After removing single-component model', linewidth=3)\n",
      "xlabel('Frequency (c/d)')\n",
      "ylabel('Power')\n",
      "legend()"
     ],
     "language": "python",
     "metadata": {},
     "outputs": []
    },
    {
     "cell_type": "markdown",
     "metadata": {},
     "source": [
      "#### Where did the power go?!\n",
      "\n",
      "You took it out when you removed the primary frequency. "
     ]
    },
    {
     "cell_type": "markdown",
     "metadata": {},
     "source": [
      "### Look at the leftovers\n",
      "\n",
      "There clearly isn't much to see around the original peak. Let's calculate the periodogram of the residual over a wider range of frequencies and see what it looks like."
     ]
    },
    {
     "cell_type": "code",
     "collapsed": false,
     "input": [
      "f_max=1 # cycles/day\n",
      "f_min = 10  #cycles per day\n",
      "frequency = linspace(f_min, f_max, num=1000) # For now, pretend more points is better. \n",
      "residual_periodogram = signal.lombscargle(xy_and_date, residual, 2*pi*frequency)"
     ],
     "language": "python",
     "metadata": {},
     "outputs": []
    },
    {
     "cell_type": "code",
     "collapsed": false,
     "input": [
      "plot(frequency, residual_periodogram)\n",
      "xlabel('Frequency (c/d)')\n",
      "ylabel('Power')\n",
      "title('Pre-whitened spectrum of XY And')"
     ],
     "language": "python",
     "metadata": {},
     "outputs": []
    },
    {
     "cell_type": "markdown",
     "metadata": {},
     "source": [
      "#### Look more closely at the peaks in the leftovers...\n",
      "\n",
      "as above, it won't be clear which of the remaining peaks, near 5 c/d, 6 c/d, and 7c/d, is actually the meaningful one until we make a more detailed periodogram."
     ]
    },
    {
     "cell_type": "code",
     "collapsed": false,
     "input": [
      "f_max=4.5 # cycles/day\n",
      "f_min = 7.5  #cycles per day\n",
      "frequency = linspace(f_min, f_max, num=1000) # For now, pretend more points is better. \n",
      "residual_periodogram = signal.lombscargle(xy_and_date, residual-residual.mean(), 2*pi*frequency)"
     ],
     "language": "python",
     "metadata": {},
     "outputs": []
    },
    {
     "cell_type": "code",
     "collapsed": false,
     "input": [
      "plot(frequency, residual_periodogram)\n",
      "xlabel('Frequency (c/d)')\n",
      "ylabel('Power')\n",
      "title('Pre-whitened spectrum of XY And')"
     ],
     "language": "python",
     "metadata": {},
     "outputs": []
    },
    {
     "cell_type": "markdown",
     "metadata": {},
     "source": [
      "#### Harmonics\n",
      "\n",
      "It turns out the most significant peak is just above 5 c/d. It is not coincidence that this is twice the fundamental frequency. In Fourier decompositions you typically have not just a single frequency but a \"fundamental\" frequency and multiples of that fundamental. We'll end up seeing power at not just the first few multiples, but at many.\n"
     ]
    },
    {
     "cell_type": "markdown",
     "metadata": {},
     "source": [
      "### Make a new model\n",
      "\n",
      "There isn't, at the moment, an easy way to add terms to a model object so we'll just make a new model. This one will include two frequencies, the fundamental $f_0$ and twice the fundamental $2f_0$."
     ]
    },
    {
     "cell_type": "code",
     "collapsed": false,
     "input": [
      "xy_and_2modes = SinusoidModel()\n",
      "xy_and_2modes.frequencies = [f0] # Only completely different frequencies get entered separately\n",
      "xy_and_2modes.modes = [[1], #first mode is 1*f0\n",
      "                       [2]  #second mode is 2*f0\n",
      "                       ]"
     ],
     "language": "python",
     "metadata": {},
     "outputs": []
    },
    {
     "cell_type": "markdown",
     "metadata": {},
     "source": [
      "As before, we fit this model to the *original data*."
     ]
    },
    {
     "cell_type": "code",
     "collapsed": false,
     "input": [
      "xy_and_2modes.fit_to_data(xy_and_date, xy_and_mag)"
     ],
     "language": "python",
     "metadata": {},
     "outputs": []
    },
    {
     "cell_type": "markdown",
     "metadata": {},
     "source": [
      "And, like before, make a phased light curve with both modes included."
     ]
    },
    {
     "cell_type": "code",
     "collapsed": false,
     "input": [
      "fit_magnitudes = xy_and_2modes(xy_and_date)\n",
      "plot(phase, -xy_and_mag, '.', label='Data')\n",
      "plot(phase, -fit_magnitudes, '.', label='Fit with two modes')\n",
      "xlabel('Phase')\n",
      "ylabel('-$\\Delta V$ (mag)')"
     ],
     "language": "python",
     "metadata": {},
     "outputs": []
    },
    {
     "cell_type": "markdown",
     "metadata": {},
     "source": [
      "Note that the components of this new fits are different than the components of the second fit even for the modes they have in common:"
     ]
    },
    {
     "cell_type": "code",
     "collapsed": false,
     "input": [
      "print \"First model:\"\n",
      "print xy_and_simple\n",
      "print \"\\n\\nSecond model:\"\n",
      "print xy_and_2modes"
     ],
     "language": "python",
     "metadata": {},
     "outputs": []
    },
    {
     "cell_type": "markdown",
     "metadata": {},
     "source": [
      "# V. Repeat Until No More Peaks Remain"
     ]
    },
    {
     "cell_type": "markdown",
     "metadata": {},
     "source": [
      "This is exactly the same as the process we went through with the first model...remove the model from the data and make a power spectrum of the leftovers."
     ]
    },
    {
     "cell_type": "code",
     "collapsed": false,
     "input": [
      "residual = xy_and_mag - xy_and_2modes(xy_and_date)"
     ],
     "language": "python",
     "metadata": {},
     "outputs": []
    },
    {
     "cell_type": "markdown",
     "metadata": {},
     "source": [
      "I'll first make a periodogram over a fairly broad range so we can see how this next round of pre-whitening has altered the original spectrum."
     ]
    },
    {
     "cell_type": "code",
     "collapsed": false,
     "input": [
      "f_max=2 # cycles/day\n",
      "f_min = 15  #cycles per day\n",
      "frequency = linspace(f_min, f_max, num=1000) # For now, pretend more points is better. \n",
      "periodgram = signal.lombscargle(xy_and_date, xy_and_mag, 2*pi*frequency)\n",
      "residual_periodogram = signal.lombscargle(xy_and_date, residual, 2*pi*frequency)"
     ],
     "language": "python",
     "metadata": {},
     "outputs": []
    },
    {
     "cell_type": "code",
     "collapsed": false,
     "input": [
      "plot(frequency, periodgram, label='Before pre-whitening')\n",
      "plot(frequency, residual_periodogram, label='After removing two-component model', linewidth=3)\n",
      "xlabel('Frequency (c/d)')\n",
      "ylabel('Power')\n",
      "legend()"
     ],
     "language": "python",
     "metadata": {},
     "outputs": []
    },
    {
     "cell_type": "markdown",
     "metadata": {},
     "source": [
      "The first thing to look for will be power near additional harmonics of the fundamental (i.e $3f_0$, $4f_0$, etc.)\n",
      "\n",
      "Let's graph the pre-whitened spectrum (that is, the spectrum of the residuals). The harmonics of the fundamental are marked along with the aliases at $\\pm 1$c/d.\n",
      "\n",
      "I've extended the range of frequencies covered by the periodogram to include many harmonics (since I know they are actually present in the spectrum)."
     ]
    },
    {
     "cell_type": "code",
     "collapsed": false,
     "input": [
      "f_max=5 # cycles/day\n",
      "f_min = 26  #cycles per day\n",
      "frequency = linspace(f_min, f_max, num=3000) # For now, pretend more points is better.\n",
      "residual_periodogram = signal.lombscargle(xy_and_date, residual, 2*pi*frequency)\n",
      "plot(frequency, residual_periodogram, label='spectrum after removing two-component model')\n",
      "for i in range(2,10):\n",
      "    harmonic_freq = i*array([f0,f0])\n",
      "    harmonic_alias = harmonic_freq + 1\n",
      "    plot(harmonic_freq, ylim(), ':', color='green', label='{}$f_0$'.format(i))\n",
      "    plot(harmonic_alias, ylim(), ':', color='red', label='daily alias of harmonic {}$f_0$'.format(i))\n",
      "    ymin, ymax = ylim()\n",
      "    text(harmonic_freq[0] + 0.1, 0.9*ymax, '{}$f_0$'.format(i), color='green')\n",
      "    text(harmonic_alias[0] + 0.1, 0.8*ymax, 'daily alias\\nof {}$f_0$'.format(i), color='red')\n",
      "xlabel('Frequency (c/d)')\n",
      "ylabel('Power')\n",
      "xlim(frequency.min(), frequency.max())\n",
      "#legend(ncol=5)"
     ],
     "language": "python",
     "metadata": {},
     "outputs": []
    },
    {
     "cell_type": "markdown",
     "metadata": {},
     "source": [
      "### Make another model...\n",
      "\n",
      "I can clearly see power up at harmonics up through $9f_0$ so let's take all of those modes out."
     ]
    },
    {
     "cell_type": "code",
     "collapsed": false,
     "input": [
      "xy_and_9modes = SinusoidModel()\n",
      "xy_and_9modes.frequencies = [f0] # Only completely different frequencies get entered separately\n",
      "xy_and_9modes.modes = [[1], #first mode is 1*f0\n",
      "                       [2],  #second mode is 2*f0\n",
      "                       [3],  # and so on...\n",
      "                       [4],\n",
      "                       [5],\n",
      "                       [6],\n",
      "                       [7],\n",
      "                       [8],\n",
      "                       [9]\n",
      "                       ]"
     ],
     "language": "python",
     "metadata": {},
     "outputs": []
    },
    {
     "cell_type": "code",
     "collapsed": false,
     "input": [
      "xy_and_9modes.fit_to_data(xy_and_date, xy_and_mag)"
     ],
     "language": "python",
     "metadata": {},
     "outputs": []
    },
    {
     "cell_type": "markdown",
     "metadata": {},
     "source": [
      "### ...and check that it looks sensible"
     ]
    },
    {
     "cell_type": "code",
     "collapsed": false,
     "input": [
      "fit_magnitudes = xy_and_9modes(xy_and_date)\n",
      "plot(phase, -xy_and_mag, '.', label='Data')\n",
      "plot(phase, -fit_magnitudes, '.', label='Fit with 9 modes')\n",
      "xlabel('Phase')\n",
      "ylabel('-$\\Delta V$ (mag)')"
     ],
     "language": "python",
     "metadata": {},
     "outputs": []
    },
    {
     "cell_type": "markdown",
     "metadata": {},
     "source": [
      "### You get the idea by now...look at residuals after removing this model\n",
      "\n",
      "I'll focus on the frequency range from $10f_0$ to $20f_0$ to see what, if any, power there is there."
     ]
    },
    {
     "cell_type": "code",
     "collapsed": false,
     "input": [
      "residual = xy_and_mag - xy_and_9modes(xy_and_date)\n",
      "f_max= 10*f0-1 # cycles/day\n",
      "f_min = 20*f0+1  #cycles per day\n",
      "frequency = linspace(f_min, f_max, num=5000) # For now, pretend more points is better. \n",
      "residual_periodogram = signal.lombscargle(xy_and_date, residual, 2*pi*frequency)"
     ],
     "language": "python",
     "metadata": {},
     "outputs": []
    },
    {
     "cell_type": "code",
     "collapsed": false,
     "input": [
      "plot(frequency, residual_periodogram)\n",
      "for i in range(10,21):\n",
      "    harmonic_freq = i*array([f0,f0])\n",
      "    harmonic_alias = harmonic_freq + 1\n",
      "    plot(harmonic_freq, ylim(), ':', color='green', label='harmonic {}$f_0$'.format(i))\n",
      "    plot(harmonic_alias, ylim(), ':', color='red', label='daily alias of harmonic {}$f_0$'.format(i))\n",
      "    ymin, ymax = ylim()\n",
      "    text(harmonic_freq[0] + 0.1, 0.9*ymax, '{}$f_0$'.format(i), color='green')\n",
      "    text(harmonic_alias[0] + 0.1, 0.8*ymax, 'daily alias\\nof {}$f_0$'.format(i), color='red')\n",
      "#legend()"
     ],
     "language": "python",
     "metadata": {},
     "outputs": []
    },
    {
     "cell_type": "markdown",
     "metadata": {},
     "source": [
      "### Look before you leap\n",
      "\n",
      "At first glance it appears there is power at harmonics up through at least $16f_0$. It turns out that isn't *quite* true. Let's take a closer look right around the harmonic $14f_0$."
     ]
    },
    {
     "cell_type": "code",
     "collapsed": false,
     "input": [
      "residual = xy_and_mag - xy_and_9modes(xy_and_date)\n",
      "f_max= 14*f0-0.5 # cycles/day\n",
      "f_min = 14*f0+0.5  #cycles per day\n",
      "frequency = linspace(f_min, f_max, num=5000) # For now, pretend more points is better. \n",
      "residual_periodogram = signal.lombscargle(xy_and_date, residual, 2*pi*frequency)"
     ],
     "language": "python",
     "metadata": {},
     "outputs": []
    },
    {
     "cell_type": "code",
     "collapsed": false,
     "input": [
      "plot(frequency, residual_periodogram)\n",
      "for i in range(14,15):\n",
      "    harmonic_freq = i*array([f0,f0])\n",
      "    harmonic_alias = harmonic_freq + 1\n",
      "    plot(harmonic_freq, ylim(), ':', color='green', label='harmonic {}$f_0$'.format(i))\n",
      "    plot(harmonic_alias, ylim(), ':', color='red', label='daily alias of harmonic {}$f_0$'.format(i))\n",
      "legend()\n",
      "xlim(14*f0-0.1, 14*f0+0.1)"
     ],
     "language": "python",
     "metadata": {},
     "outputs": []
    },
    {
     "cell_type": "markdown",
     "metadata": {},
     "source": [
      "Notice that there are peaks *near* $14f_0$ that are **higher than** the peak *at* $14f_0$.\n",
      "\n",
      "This is a sign that there is an additional frequency present in the data, something also clear from the scatter of the data around the fit up to this point. The peaks near $14f_0$ are offset from $14f_0$ by an amount $f_m$, where $f_m$ is the modulation frequency."
     ]
    },
    {
     "cell_type": "markdown",
     "metadata": {},
     "source": [
      "### Look for modulation near the fundamental\n",
      "\n",
      "We ought to be able to see this modulation frequency much more clearly near the fundmental $f_0$, so let's look for it there."
     ]
    },
    {
     "cell_type": "code",
     "collapsed": false,
     "input": [
      "residual = xy_and_mag - xy_and_9modes(xy_and_date)\n",
      "f_max= f0-0.5 # cycles/day\n",
      "f_min = f0+0.5  #cycles per day\n",
      "frequency = linspace(f_min, f_max, num=5000) # For now, pretend more points is better. \n",
      "residual_periodogram = signal.lombscargle(xy_and_date, residual, 2*pi*frequency)"
     ],
     "language": "python",
     "metadata": {},
     "outputs": []
    },
    {
     "cell_type": "code",
     "collapsed": false,
     "input": [
      "plot(frequency, residual_periodogram)\n",
      "for i in range(1,2):\n",
      "    harmonic_freq = i*array([f0,f0])\n",
      "    harmonic_alias = harmonic_freq + 1\n",
      "    plot(harmonic_freq, ylim(), ':', color='green', label='harmonic {}$f_0$'.format(i))\n",
      "    plot(harmonic_alias, ylim(), ':', color='red', label='daily alias of harmonic {}$f_0$'.format(i))\n",
      "    ymin, ymax = ylim()\n",
      "    text(harmonic_freq[0] + 0.1, 0.9*ymax, '{}$f_0$'.format(i), color='green')\n",
      "    text(harmonic_alias[0] + 0.1, 0.8*ymax, 'daily alias\\nof {}$f_0$'.format(i), color='red')\n",
      "#legend()\n",
      "xlim(f0-0.1,f0+0.1)"
     ],
     "language": "python",
     "metadata": {},
     "outputs": []
    },
    {
     "cell_type": "markdown",
     "metadata": {},
     "source": [
      "The tall peak offset to the right by about 0.02 c/d is the modulation frequency. \n",
      "\n",
      "As when we found the main peak, we should really zoom in around this peak, fit a polynomial to it, and take the derivative of the fit to find the location of the peak. Instead, I'll pull the result from the paper: $f_m = 0.02417104$c/d"
     ]
    },
    {
     "cell_type": "code",
     "collapsed": false,
     "input": [
      "fm = 0.02417104 # c/d"
     ],
     "language": "python",
     "metadata": {},
     "outputs": []
    },
    {
     "cell_type": "markdown",
     "metadata": {},
     "source": [
      "### Making a model with multiple frequencies \n",
      "\n",
      "You should expect power at the  modulation frequency and at linear combinations of the fundamental frequency and the modulation frequency (e.g. $f_0+f_m$ or $3f_0 - 2f_m$, etc.).\n",
      "\n",
      "To determine which are actually present you should look at the spectrum near each one of these expected peaks. \n",
      "\n",
      "I'm going to skip much of that, and for the purposes of illustration I'm going to add in modes at $f_m$, $f_0+f_m$, $2f_0+f_m$, etc. up to $f_0+9f_m$ because the paper on which this is based includes all of those modes."
     ]
    },
    {
     "cell_type": "code",
     "collapsed": false,
     "input": [
      "xy_and_modulated = SinusoidModel()\n",
      "xy_and_modulated.frequencies = [f0, fm] # Now we have two independent frequencies \n",
      "xy_and_modulated.modes = [[1, 0], #first mode is 1*f0 + 0*fm\n",
      "                           [2, 0],  #second mode is 2*f0 + 0*fm\n",
      "                           [3, 0],  # and so on...\n",
      "                           [4, 0],\n",
      "                           [5, 0],\n",
      "                           [6, 0],\n",
      "                           [7, 0],\n",
      "                           [8, 0],\n",
      "                           [9, 0],\n",
      "                           [0, 1],  # this is 0*f0 + f_m\n",
      "                           [1, 1], # and 1*f0 + 1*fm\n",
      "                           [2, 1],  # and 2*f0+f_m\n",
      "                           [3, 1],  # and so on...\n",
      "                           [4, 1],\n",
      "                           [5, 1],\n",
      "                           [6, 1],\n",
      "                           [7, 1],\n",
      "                           [8, 1],\n",
      "                           [9, 1]\n",
      "                           ]"
     ],
     "language": "python",
     "metadata": {},
     "outputs": []
    },
    {
     "cell_type": "code",
     "collapsed": false,
     "input": [
      "xy_and_modulated.fit_to_data(xy_and_date, xy_and_mag)"
     ],
     "language": "python",
     "metadata": {},
     "outputs": []
    },
    {
     "cell_type": "markdown",
     "metadata": {},
     "source": [
      "### Sanity check...."
     ]
    },
    {
     "cell_type": "code",
     "collapsed": false,
     "input": [
      "plot(phase, xy_and_mag, '.', label='Data')\n",
      "plot(phase, xy_and_modulated(xy_and_date), '.', label='fit')\n",
      "legend()"
     ],
     "language": "python",
     "metadata": {},
     "outputs": []
    },
    {
     "cell_type": "markdown",
     "metadata": {},
     "source": [
      "## And now, another periodogram of the residuals...with a twist!"
     ]
    },
    {
     "cell_type": "markdown",
     "metadata": {},
     "source": [
      "### First, a broad look at the spectrum"
     ]
    },
    {
     "cell_type": "code",
     "collapsed": false,
     "input": [
      "residual = xy_and_mag - xy_and_modulated(xy_and_date)\n",
      "f_max= 1 # cycles/day\n",
      "f_min = 10  #cycles per day\n",
      "frequency = linspace(f_min, f_max, num=5000) # For now, pretend more points is better. \n",
      "residual_periodogram = signal.lombscargle(xy_and_date, residual, 2*pi*frequency)"
     ],
     "language": "python",
     "metadata": {},
     "outputs": []
    },
    {
     "cell_type": "code",
     "collapsed": false,
     "input": [
      "plot(frequency, residual_periodogram)\n",
      "for i in range(15,15):\n",
      "    harmonic_freq = i*array([f0,f0])\n",
      "    harmonic_alias = harmonic_freq + 1\n",
      "    harmonic_mod = harmonic_freq + fm\n",
      "    plot(harmonic_freq, ylim(), ':', color='green', label='harmonic {}$f_0$'.format(i))\n",
      "    plot(harmonic_mod, ylim(), ':', color='black', label='{}$f_0+f_m$'.format(i))\n",
      "    plot(harmonic_alias, ylim(), ':', color='red', label='daily alias of harmonic {}$f_0$'.format(i))\n",
      "#legend()\n",
      "#xlim(14*f0-0.1, 14*f0+0.1)"
     ],
     "language": "python",
     "metadata": {},
     "outputs": []
    },
    {
     "cell_type": "markdown",
     "metadata": {},
     "source": [
      "There is clearly still more power near the fundamental, its harmonics, and their aliases.\n",
      "\n",
      "But it is getting really tedious making different plots for each one, so let's get a little more efficient."
     ]
    },
    {
     "cell_type": "markdown",
     "metadata": {},
     "source": [
      "### The twist\n",
      "\n",
      "At this point we know we need to examine the area around each multiple of the fundamental $f_0$ within a frequency range of a few times the modulation frequency $f_m$.\n",
      "\n",
      "Let's write a little function that calculates the periodogram over a narrow range around a particular frequency."
     ]
    },
    {
     "cell_type": "code",
     "collapsed": false,
     "input": [
      "def narrow_periodgram(time, amplitude, center_frequency, frequency_width, num=1000):\n",
      "    frequencies = linspace(center_frequency-frequency_width/2, center_frequency+frequency_width/2, num=num)\n",
      "    pgram = signal.lombscargle(time, amplitude, 2*pi*frequencies)\n",
      "    return (frequencies, pgram)"
     ],
     "language": "python",
     "metadata": {},
     "outputs": []
    },
    {
     "cell_type": "markdown",
     "metadata": {},
     "source": [
      "While we are writing functions, how about one that adds vertical markers at a particular set of frequencies?"
     ]
    },
    {
     "cell_type": "code",
     "collapsed": false,
     "input": [
      "def mark_at(freqs, labels, ax=None):\n",
      "    if ax is None:\n",
      "        ax = axis()\n",
      "    for freq, label in zip(freqs, labels):\n",
      "        ax.plot([freq, freq], ylim(), ':')\n",
      "        ax.text(1.01*freq, 0.9*ylim()[1], label)"
     ],
     "language": "python",
     "metadata": {},
     "outputs": []
    },
    {
     "cell_type": "code",
     "collapsed": false,
     "input": [
      "freq_width = 2*3.5*fm\n",
      "\n",
      "# set up markers at the modulation frequencies \n",
      "mark_freq = []\n",
      "mark_label = []\n",
      "for i in [-3, -2, -1, 1, 2, 3]:\n",
      "    mark_freq.append(i*fm)\n",
      "    mark_label.append('{}$f_m$'.format(i))\n",
      "\n",
      "max_harmonic = 20  # make a plot for harmonics 1 through this number\n",
      "nplots_per_row = 5 # but only make this many plots per row\n",
      "\n",
      "for harm in range(max_harmonic):\n",
      "    if (harm % nplots_per_row) == 0:\n",
      "        fig, axs = subplots(ncols=nplots, sharey=True)\n",
      "    \n",
      "    axis_index = harm % nplots_per_row\n",
      "    ax = axs[axis_index]\n",
      "    if axis_index == int(nplots_per_row/2):\n",
      "        ax.set_title('Normalized peridograms near harmonics')\n",
      "    cen_freq = (harm+1)*f0\n",
      "    f, p = narrow_periodgram(xy_and_date, residual, cen_freq, freq_width)\n",
      "    cen_freq_label = '{}$f_0$'.format(harm+1)\n",
      "    ax.plot(f - cen_freq, p/p.max(), label=cen_freq_label)\n",
      "    mark_at(mark_freq, mark_label, ax=ax)\n",
      "    ax.set_xlabel('$f-$'+cen_freq_label)\n",
      "    ax.legend()\n",
      "    subplots_adjust(wspace=0)\n"
     ],
     "language": "python",
     "metadata": {},
     "outputs": []
    },
    {
     "cell_type": "markdown",
     "metadata": {},
     "source": [
      "OK, that's nice, but what modes have I already removed? Let's print our current model"
     ]
    },
    {
     "cell_type": "code",
     "collapsed": false,
     "input": [
      "print xy_and_modulated"
     ],
     "language": "python",
     "metadata": {},
     "outputs": []
    },
    {
     "cell_type": "markdown",
     "metadata": {},
     "source": [
      "From the graphs above, it looks like we should really include multiples of the fundamental through $13f_0$ (which is what the authors chose too), the mode at $+f_m$ through $13f_0$ and at $16f_0$, the mode at $-f_m$ through $9f_0$. Looks like there is some power at $\\pm 2f_m$ also, but let's take out all of the $\\pm f_m$ stuff first."
     ]
    },
    {
     "cell_type": "code",
     "collapsed": false,
     "input": [
      "xy_and_all_fm = SinusoidModel()\n",
      "xy_and_all_fm.frequencies = xy_and_modulated.frequencies\n",
      "xy_and_all_fm.modes = [[1, 0], #first mode is 1*f0 + 0*fm\n",
      "                           [2, 0],  #second mode is 2*f0 + 0*fm\n",
      "                           [3, 0],  # and so on...\n",
      "                           [4, 0],\n",
      "                           [5, 0],\n",
      "                           [6, 0],\n",
      "                           [7, 0],\n",
      "                           [8, 0],\n",
      "                           [9, 0],\n",
      "                           [10, 0],\n",
      "                           [11, 0],\n",
      "                           [12, 0],\n",
      "                           [13, 0],\n",
      "                           [0, 1],  # this is 0*f0 + f_m\n",
      "                           [1, 1], # and 1*f0 + 1*fm\n",
      "                           [2, 1],  # and 2*f0+f_m\n",
      "                           [3, 1],  # and so on...\n",
      "                           [4, 1],\n",
      "                           [5, 1],\n",
      "                           [6, 1],\n",
      "                           [7, 1],\n",
      "                           [8, 1],\n",
      "                           [9, 1],\n",
      "                           [10, 1],\n",
      "                           [11, 1],\n",
      "                           [12, 1],\n",
      "                           [13, 1],\n",
      "                           [16, 1],\n",
      "                           [1, -1], \n",
      "                           [2, -1],  \n",
      "                           [3, -1],  \n",
      "                           [4, -1],\n",
      "                           [5, -1],\n",
      "                           [6, -1],\n",
      "                           [7, -1],\n",
      "                           [8, -1],\n",
      "                           [9, -1]\n",
      "                           ]"
     ],
     "language": "python",
     "metadata": {},
     "outputs": []
    },
    {
     "cell_type": "code",
     "collapsed": false,
     "input": [
      "xy_and_all_fm.fit_to_data(xy_and_date, xy_and_mag)"
     ],
     "language": "python",
     "metadata": {},
     "outputs": []
    },
    {
     "cell_type": "markdown",
     "metadata": {},
     "source": [
      "#### As usual, the sanity check..."
     ]
    },
    {
     "cell_type": "code",
     "collapsed": false,
     "input": [
      "plot(phase, - xy_and_mag, '.', label='data')\n",
      "plot(phase, -xy_and_all_fm(xy_and_date), '.', label='data')\n",
      "legend()"
     ],
     "language": "python",
     "metadata": {},
     "outputs": []
    },
    {
     "cell_type": "markdown",
     "metadata": {},
     "source": [
      "### Looking good, one more round of calculating residuals and looking at the spectrum..."
     ]
    },
    {
     "cell_type": "code",
     "collapsed": false,
     "input": [
      "residual = xy_and_mag - xy_and_all_fm(xy_and_date)\n",
      "plot(phase, residual, '.')\n",
      "title('Residual after removing lots of signal')\n"
     ],
     "language": "python",
     "metadata": {},
     "outputs": []
    },
    {
     "cell_type": "code",
     "collapsed": false,
     "input": [
      "f_max= 1 # cycles/day\n",
      "f_min = 10  #cycles per day\n",
      "frequency = linspace(f_min, f_max, num=5000) # For now, pretend more points is better. \n",
      "residual_periodogram = signal.lombscargle(xy_and_date, residual, 2*pi*frequency)"
     ],
     "language": "python",
     "metadata": {},
     "outputs": []
    },
    {
     "cell_type": "code",
     "collapsed": false,
     "input": [
      "plot(frequency, residual_periodogram)"
     ],
     "language": "python",
     "metadata": {},
     "outputs": []
    },
    {
     "cell_type": "markdown",
     "metadata": {},
     "source": [
      "**Notice** how small the vertical scale is getting here. We are not left with a lot of signal still, but the graph of the residuals shows there is still some power, and the graphs above near the harmonics showed some power at $\\pm 2f_m$, so let's remake those plots"
     ]
    },
    {
     "cell_type": "code",
     "collapsed": false,
     "input": [
      "freq_width = 2*3.5*fm\n",
      "\n",
      "# set up markers at the modulation frequencies \n",
      "mark_freq = []\n",
      "mark_label = []\n",
      "for i in [-3, -2, -1, 1, 2, 3]:\n",
      "    mark_freq.append(i*fm)\n",
      "    mark_label.append('{}$f_m$'.format(i))\n",
      "\n",
      "max_harmonic = 20  # make a plot for harmonics 1 through this number\n",
      "nplots_per_row = 5 # but only make this many plots per row\n",
      "\n",
      "for harm in range(max_harmonic):\n",
      "    if (harm % nplots_per_row) == 0:\n",
      "        fig, axs = subplots(ncols=nplots, sharey=True)\n",
      "    \n",
      "    axis_index = harm % nplots_per_row\n",
      "    ax = axs[axis_index]\n",
      "    if axis_index == int(nplots_per_row/2):\n",
      "        ax.set_title('Normalized peridograms near harmonics')\n",
      "    cen_freq = (harm+1)*f0\n",
      "    f, p = narrow_periodgram(xy_and_date, residual, cen_freq, freq_width)\n",
      "    cen_freq_label = '{}$f_0$'.format(harm+1)\n",
      "    ax.plot(f - cen_freq, p/p.max(), label=cen_freq_label+' max is {:5f}'.format(p.max()))\n",
      "    mark_at(mark_freq, mark_label, ax=ax)\n",
      "    ax.set_xlabel('$f-$'+cen_freq_label)\n",
      "    ax.legend()\n",
      "    subplots_adjust(wspace=0)\n"
     ],
     "language": "python",
     "metadata": {},
     "outputs": []
    },
    {
     "cell_type": "markdown",
     "metadata": {},
     "source": [
      "Let's now add modes $+2f_m$ up to $9f_0$ (after that there is still a peak, but its value is getting kind of small...not sure what the cutoff here should be), and modes at $-2f_m$ up to $4f_0$ and see where we stand."
     ]
    },
    {
     "cell_type": "code",
     "collapsed": false,
     "input": [
      "xy_and_all_2fm = SinusoidModel()\n",
      "xy_and_all_2fm.frequencies = xy_and_modulated.frequencies\n",
      "xy_and_all_2fm.modes = [[1, 0], #first mode is 1*f0 + 0*fm\n",
      "                           [2, 0],  #second mode is 2*f0 + 0*fm\n",
      "                           [3, 0],  # and so on...\n",
      "                           [4, 0],\n",
      "                           [5, 0],\n",
      "                           [6, 0],\n",
      "                           [7, 0],\n",
      "                           [8, 0],\n",
      "                           [9, 0],\n",
      "                           [10, 0],\n",
      "                           [11, 0],\n",
      "                           [12, 0],\n",
      "                           [13, 0],\n",
      "                           [0, 1],  # this is 0*f0 + f_m\n",
      "                           [1, 1], # and 1*f0 + 1*fm\n",
      "                           [2, 1],  # and 2*f0+f_m\n",
      "                           [3, 1],  # and so on...\n",
      "                           [4, 1],\n",
      "                           [5, 1],\n",
      "                           [6, 1],\n",
      "                           [7, 1],\n",
      "                           [8, 1],\n",
      "                           [9, 1],\n",
      "                           [10, 1],\n",
      "                           [11, 1],\n",
      "                           [12, 1],\n",
      "                           [13, 1],\n",
      "                           [16, 1],\n",
      "                           [1, -1], \n",
      "                           [2, -1],  \n",
      "                           [3, -1],  \n",
      "                           [4, -1],\n",
      "                           [5, -1],\n",
      "                           [6, -1],\n",
      "                           [7, -1],\n",
      "                           [8, -1],\n",
      "                           [9, -1],\n",
      "                           [1, 2], # and 1*f0 + 1*fm\n",
      "                           [2, 2],  # and 2*f0+f_m\n",
      "                           [3, 2],  # and so on...\n",
      "                           [4, 2],\n",
      "                           [5, 2],\n",
      "                           [6, 2],\n",
      "                           [7, 2],\n",
      "                           [8, 2],\n",
      "                           [9, 2],\n",
      "                           [1, -2], \n",
      "                           [2, -2],  \n",
      "                           [3, -2],  \n",
      "                           [4, -2]\n",
      "                           ]"
     ],
     "language": "python",
     "metadata": {},
     "outputs": []
    },
    {
     "cell_type": "code",
     "collapsed": false,
     "input": [
      "xy_and_all_2fm.fit_to_data(xy_and_date, xy_and_mag)"
     ],
     "language": "python",
     "metadata": {},
     "outputs": []
    },
    {
     "cell_type": "code",
     "collapsed": false,
     "input": [
      "plot(phase, - xy_and_mag, '.', label='data')\n",
      "plot(phase, -xy_and_all_2fm(xy_and_date), '.', label='data')\n",
      "legend()"
     ],
     "language": "python",
     "metadata": {},
     "outputs": []
    },
    {
     "cell_type": "code",
     "collapsed": false,
     "input": [
      "residual = xy_and_mag - xy_and_all_2fm(xy_and_date)\n",
      "plot(phase, residual, '.')\n",
      "title('Residual after removing lots of signal including $\\pm 2f_m$ modes')\n",
      "xlabel('phase')\n",
      "ylabel('V magnitude')"
     ],
     "language": "python",
     "metadata": {},
     "outputs": []
    },
    {
     "cell_type": "markdown",
     "metadata": {},
     "source": [
      "Not *much* signal left, but the data clearly spreads a bit towards the right/left edges, where the light curve is at maximum. **Note well** the vertical scale...we are now down to hundrenths of a magnitude!"
     ]
    },
    {
     "cell_type": "code",
     "collapsed": false,
     "input": [
      "f_max= 1 # cycles/day\n",
      "f_min = 10  #cycles per day\n",
      "frequency = linspace(f_min, f_max, num=5000) # For now, pretend more points is better. \n",
      "residual_periodogram = signal.lombscargle(xy_and_date, residual, 2*pi*frequency)"
     ],
     "language": "python",
     "metadata": {},
     "outputs": []
    },
    {
     "cell_type": "code",
     "collapsed": false,
     "input": [
      "plot(frequency, residual_periodogram)\n",
      "xlabel('Frequency (c/d)')"
     ],
     "language": "python",
     "metadata": {},
     "outputs": []
    },
    {
     "cell_type": "markdown",
     "metadata": {},
     "source": [
      "Not too much left here, let's see what we see around the peaks...only going up to $15f_0$ his time because there doesn't seem to be much real above that."
     ]
    },
    {
     "cell_type": "code",
     "collapsed": false,
     "input": [
      "freq_width = 2*3.5*fm\n",
      "\n",
      "# set up markers at the modulation frequencies \n",
      "mark_freq = []\n",
      "mark_label = []\n",
      "for i in [-3, -2, -1, 1, 2, 3]:\n",
      "    mark_freq.append(i*fm)\n",
      "    mark_label.append('{}$f_m$'.format(i))\n",
      "\n",
      "max_harmonic = 15  # make a plot for harmonics 1 through this number\n",
      "nplots_per_row = 5 # but only make this many plots per row\n",
      "\n",
      "for harm in range(max_harmonic):\n",
      "    if (harm % nplots_per_row) == 0:\n",
      "        fig, axs = subplots(ncols=nplots, sharey=True)\n",
      "    \n",
      "    axis_index = harm % nplots_per_row\n",
      "    ax = axs[axis_index]\n",
      "    if axis_index == int(nplots_per_row/2):\n",
      "        ax.set_title('Normalized peridograms near harmonics')\n",
      "    cen_freq = (harm+1)*f0\n",
      "    f, p = narrow_periodgram(xy_and_date, residual, cen_freq, freq_width)\n",
      "    cen_freq_label = '{}$f_0$'.format(harm+1)\n",
      "    ax.plot(f - cen_freq, p/p.max(), label=cen_freq_label+' max is {:5f}'.format(p.max()))\n",
      "    mark_at(mark_freq, mark_label, ax=ax)\n",
      "    ax.set_xlabel('$f-$'+cen_freq_label)\n",
      "    ax.legend()\n",
      "    subplots_adjust(wspace=0)\n"
     ],
     "language": "python",
     "metadata": {},
     "outputs": []
    },
    {
     "cell_type": "code",
     "collapsed": false,
     "input": [
      "print xy_and_all_2fm"
     ],
     "language": "python",
     "metadata": {},
     "outputs": []
    },
    {
     "cell_type": "markdown",
     "metadata": {},
     "source": [
      "Though it isn't clear to me how to decide when to cut things off, the original paper includes these modes that we don't have yet: $14 f_0+f_m$, $10f_0 +2f_m$ through $13f_0 + 2f_m$, and $6f_0 -2f_m$.\n",
      "\n",
      "Let's put those in and see what, if anything, is left."
     ]
    },
    {
     "cell_type": "code",
     "collapsed": false,
     "input": [
      "xy_and_all_2fm_from_paper = SinusoidModel()"
     ],
     "language": "python",
     "metadata": {},
     "outputs": []
    },
    {
     "cell_type": "code",
     "collapsed": false,
     "input": [
      "xy_and_all_2fm_from_paper.frequencies = xy_and_all_2fm.frequencies\n",
      "old_modes = list(xy_and_all_2fm.modes)  # IF YOU DON'T PUT IN THE LIST YOU MODIFY THE ORIGINAL MODES. BAD.\n",
      "old_modes.extend([[14,1], [10,2], [11,2], [12,2], [13,2], [6, -2]])\n",
      "xy_and_all_2fm_from_paper.modes = old_modes"
     ],
     "language": "python",
     "metadata": {},
     "outputs": []
    },
    {
     "cell_type": "code",
     "collapsed": false,
     "input": [
      "#old_modes = xy_and_all_2fm.modes\n",
      "xy_and_all_2fm.modes"
     ],
     "language": "python",
     "metadata": {},
     "outputs": []
    },
    {
     "cell_type": "code",
     "collapsed": false,
     "input": [
      "xy_and_all_2fm_from_paper.fit_to_data(xy_and_date, xy_and_mag)"
     ],
     "language": "python",
     "metadata": {},
     "outputs": []
    },
    {
     "cell_type": "code",
     "collapsed": false,
     "input": [
      "residual = xy_and_mag - xy_and_all_2fm_from_paper(xy_and_date)\n",
      "plot(phase, residual, '.')\n",
      "title('Residual after removing lots of signal including $\\pm 2f_m$ modes')\n",
      "xlabel('phase')\n",
      "ylabel('V magnitude')"
     ],
     "language": "python",
     "metadata": {},
     "outputs": []
    },
    {
     "cell_type": "code",
     "collapsed": false,
     "input": [
      "f_max= 1 # cycles/day\n",
      "f_min = 10  #cycles per day\n",
      "frequency = linspace(f_min, f_max, num=5000) # For now, pretend more points is better. \n",
      "residual_periodogram = signal.lombscargle(xy_and_date, residual, 2*pi*frequency)"
     ],
     "language": "python",
     "metadata": {},
     "outputs": []
    },
    {
     "cell_type": "code",
     "collapsed": false,
     "input": [
      "plot(frequency, residual_periodogram)\n",
      "xlabel('Frequency (c/d)')"
     ],
     "language": "python",
     "metadata": {},
     "outputs": []
    },
    {
     "cell_type": "markdown",
     "metadata": {},
     "source": [
      "Still a few peaks in the range 5-8 c/d or so that aren't being removed, let's zoom in..."
     ]
    },
    {
     "cell_type": "code",
     "collapsed": false,
     "input": [
      "f_max= 8 # cycles/day\n",
      "f_min = 5  #cycles per day\n",
      "frequency = linspace(f_min, f_max, num=5000) # For now, pretend more points is better. \n",
      "residual_periodogram = signal.lombscargle(xy_and_date, residual, 2*pi*frequency)"
     ],
     "language": "python",
     "metadata": {},
     "outputs": []
    },
    {
     "cell_type": "code",
     "collapsed": false,
     "input": [
      "plot(frequency, residual_periodogram)\n",
      "xlabel('Frequency (c/d)')"
     ],
     "language": "python",
     "metadata": {},
     "outputs": []
    },
    {
     "cell_type": "markdown",
     "metadata": {},
     "source": [
      "The highest peak is near 7.7, let's zoom in more..."
     ]
    },
    {
     "cell_type": "code",
     "collapsed": false,
     "input": [
      "plot(frequency, residual_periodogram)\n",
      "xlabel('Frequency (c/d)')\n",
      "xlim(7.7,7.75)"
     ],
     "language": "python",
     "metadata": {},
     "outputs": []
    },
    {
     "cell_type": "markdown",
     "metadata": {},
     "source": [
      "Highest peak is around 7.72 c/d; the paper calls this $f_2'=7.72021921$ c/d. Time to add this in, which means re-typing all of the modes. Grrr....wait, maybe not. For all of the previous modes I just need to add a zero to the end of the list. Lets try that."
     ]
    },
    {
     "cell_type": "code",
     "collapsed": false,
     "input": [
      "f2 = 7.72021921 #c/d\n",
      "xy_and_with_f2 = SinusoidModel()\n",
      "xy_and_with_f2.frequencies = [f0, fm, f2]\n",
      "\n",
      "old_modes = list(xy_and_all_2fm_from_paper.modes)\n",
      "\n",
      "new_modes = []\n",
      "for mode in old_modes:\n",
      "    mode_copy = list(mode)\n",
      "    mode_copy.append(0) # don't know why this is needed...maybe numpy append is overriding builtin append?\n",
      "    new_modes.append(mode_copy)\n",
      "new_modes.append([0,0,1])  # add the new mode for f2'\n",
      "\n",
      "xy_and_with_f2.modes = new_modes"
     ],
     "language": "python",
     "metadata": {},
     "outputs": []
    },
    {
     "cell_type": "markdown",
     "metadata": {},
     "source": [
      "Let's make sure this is entered right..."
     ]
    },
    {
     "cell_type": "code",
     "collapsed": false,
     "input": [
      "print xy_and_with_f2"
     ],
     "language": "python",
     "metadata": {},
     "outputs": []
    },
    {
     "cell_type": "code",
     "collapsed": false,
     "input": [
      "xy_and_with_f2.fit_to_data(xy_and_date, xy_and_mag)"
     ],
     "language": "python",
     "metadata": {},
     "outputs": []
    },
    {
     "cell_type": "code",
     "collapsed": false,
     "input": [
      "residual = xy_and_mag - xy_and_with_f2(xy_and_date)\n",
      "plot(phase, residual, '.')\n",
      "title(\"Residual after removing lots of signal including $\\pm 2f_m$ modes and $f_2'$\")\n",
      "xlabel('phase')\n",
      "ylabel('V magnitude')"
     ],
     "language": "python",
     "metadata": {},
     "outputs": []
    },
    {
     "cell_type": "markdown",
     "metadata": {},
     "source": [
      "*Maybe* a little less scatter than before? Not real convinced to be honest...the paper claims to have fit peaks at $f2'-f0$, which is about 5.22 c/d, and $f2'+f_0$ (about 10.23 c/d) and $f_2'+2f_0$ (around 12.74 c/d). \n",
      "\n",
      "Let's make spectra in those regions..."
     ]
    },
    {
     "cell_type": "code",
     "collapsed": false,
     "input": [
      "f_max= 6 # cycles/day\n",
      "f_min = 5  #cycles per day\n",
      "frequency = linspace(f_min, f_max, num=5000) # For now, pretend more points is better. \n",
      "residual_periodogram = signal.lombscargle(xy_and_date, residual, 2*pi*frequency)"
     ],
     "language": "python",
     "metadata": {},
     "outputs": []
    },
    {
     "cell_type": "code",
     "collapsed": false,
     "input": [
      "plot(frequency, residual_periodogram)\n",
      "xlabel('Frequency (c/d)')"
     ],
     "language": "python",
     "metadata": {},
     "outputs": []
    },
    {
     "cell_type": "markdown",
     "metadata": {},
     "source": [
      "I don't see how the peak at 5.2 c/d is more significant than the one at about 5.92 c/d."
     ]
    },
    {
     "cell_type": "code",
     "collapsed": false,
     "input": [
      "f_max= 13 # cycles/day\n",
      "f_min = 10  #cycles per day\n",
      "frequency = linspace(f_min, f_max, num=5000) # For now, pretend more points is better. \n",
      "residual_periodogram = signal.lombscargle(xy_and_date, residual, 2*pi*frequency)"
     ],
     "language": "python",
     "metadata": {},
     "outputs": []
    },
    {
     "cell_type": "code",
     "collapsed": false,
     "input": [
      "plot(frequency, residual_periodogram)\n",
      "xlabel('Frequency (c/d)')"
     ],
     "language": "python",
     "metadata": {},
     "outputs": []
    },
    {
     "cell_type": "markdown",
     "metadata": {},
     "source": [
      "Likewise, there are several peaks at aboutthe same power as those claimed as real in the paper."
     ]
    },
    {
     "cell_type": "code",
     "collapsed": false,
     "input": [],
     "language": "python",
     "metadata": {},
     "outputs": []
    }
   ],
   "metadata": {}
  }
 ]
}